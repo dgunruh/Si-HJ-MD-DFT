{
 "cells": [
  {
   "cell_type": "code",
   "execution_count": 1,
   "metadata": {},
   "outputs": [],
   "source": [
    "import numpy as np\n",
    "import matplotlib.pyplot as plt\n",
    "from tkinter import Tk\n",
    "from tkinter import filedialog as fd\n",
    "import os\n",
    "import math"
   ]
  },
  {
   "cell_type": "code",
   "execution_count": null,
   "metadata": {},
   "outputs": [],
   "source": [
    "#User defined constants for the program\n",
    "crystalline_layers = 2\n",
    "rdf_cutoff = 8.0 #angstroms\n",
    "numberbins = 20\n",
    "x_boundary = \"periodic\"\n",
    "y_boundary = \"periodic\"\n",
    "z_boundary = \"fixed\""
   ]
  },
  {
   "cell_type": "code",
   "execution_count": null,
   "metadata": {},
   "outputs": [],
   "source": [
    "root = Tk()\n",
    "file = fd.askopenfilename(title = \"Choose the a-Si/c-Si interface xyz file\")\n",
    "root.withdraw()\n",
    "\n",
    "f = open(file, 'r')\n",
    "iterator = 0\n",
    "nAtoms = 0\n",
    "xSize = 0\n",
    "ySize = 0\n",
    "zSize = 0\n",
    "atomicInformationDict = {}\n",
    "atomicLocations = []\n",
    "for line in f:\n",
    "    if iterator == 3:\n",
    "        nAtoms = float(line)\n",
    "    if iterator == 5:\n",
    "        newline = line.split()\n",
    "        xSize = float(newline[1]) - float(newline[0])\n",
    "    if iterator == 6:\n",
    "        newline = line.split()\n",
    "        ySize = float(newline[1]) - float(newline[0])\n",
    "    if iterator == 7:\n",
    "        newline = line.split()\n",
    "        xSize = float(newline[1]) - float(newline[0])\n",
    "    elif iterator >= 9:\n",
    "        newline = line.split()\n",
    "        floatline = [float(i) for i in newline]\n",
    "        atomicInformationDict[floatline[0]] = [floatline[1], floatline[2:]]\n",
    "        atomicLocations.append(floatline[2:])\n",
    "        \n",
    "atomicArray = np.array(atomicLocations)\n",
    "distances = []\n",
    "#calculate the distance between every atomic pair, if all non-periodic boundary conditions\n",
    "#for i in range(atomicArray.shape[0] - 1):\n",
    "#    distances.extend(np.linalg.norm(atomicArray[i+1:,:] - atomicArray[i,:], axis=1))\n",
    "for n, i in enumerate(atomicArray[:-1]):\n",
    "    for j in atomicArray[n+1:]:\n",
    "        if x_boundary == \"periodic\":\n",
    "            xDistance = min(abs(i[0]-j[0]),abs(min(i[0],j[0]) - max(i[0], j[0]) + xSize))\n",
    "        else:\n",
    "            xDistance = abs(i[0] - j[0])\n",
    "            \n",
    "        if y_boundary == \"periodic\":\n",
    "            yDistance = min(abs(i[0]-j[0]),abs(min(i[0],j[0]) - max(i[0], j[0]) + ySize))\n",
    "        else:\n",
    "            yDistance = abs(i[0] - j[0])\n",
    "            \n",
    "        if z_boundary == \"periodic\":\n",
    "            zDistance = min(abs(i[0]-j[0]),abs(min(i[0],j[0]) - max(i[0], j[0]) + zSize))\n",
    "        else:\n",
    "            zDistance = abs(i[0] - j[0])\n",
    "        \n",
    "\n",
    "#apply cutoff and make new array\n",
    "distances = [i for i in distances if i<rdf_cutoff]    \n",
    "distanceArray = np.array(distances)\n",
    "\n",
    "#create histogram bins\n",
    "count, bins = np.histogram(distanceArray, numberbins)\n",
    "binwidth = bins[1]-bins[0]\n",
    "centers = [(i + bins[n])/2 for n, i in enumerate(bins[1:])]\n",
    "\n",
    "#normalize by the ideal gas\n",
    "numberDensity = nAtoms/(xSize*ySize*zSize)\n",
    "normalizedBins = bins/distanceArray.size #first normalize by the total number of particles\n",
    "for i in range(bins.size):\n",
    "    idealGasRDF = numberDensity*4*math.pi*centers[i]**2*binwidth\n",
    "    normalizedBins[i] = normalizedBins[i]/idealGasRDF"
   ]
  },
  {
   "cell_type": "code",
   "execution_count": 29,
   "metadata": {},
   "outputs": [
    {
     "name": "stdout",
     "output_type": "stream",
     "text": [
      "[[5 5 5]]\n",
      "[1.73205081 3.46410162 5.19615242 6.92820323]\n",
      "[1.73205081 3.46410162 5.19615242]\n",
      "[1.73205081 3.46410162]\n",
      "[1.73205081]\n"
     ]
    }
   ],
   "source": [
    "line = [[1,1,1],[2,2,2],[3,3,3],[4,4,4],[5,5,5]]\n",
    "array = np.array(line)\n",
    "print(array[-1:])\n",
    "for i in range(array.shape[0]-1):\n",
    "    print(np.linalg.norm(array[i+1:,:] - array[i,:], axis=1))"
   ]
  },
  {
   "cell_type": "code",
   "execution_count": null,
   "metadata": {},
   "outputs": [],
   "source": []
  }
 ],
 "metadata": {
  "kernelspec": {
   "display_name": "Python 3",
   "language": "python",
   "name": "python3"
  },
  "language_info": {
   "codemirror_mode": {
    "name": "ipython",
    "version": 3
   },
   "file_extension": ".py",
   "mimetype": "text/x-python",
   "name": "python",
   "nbconvert_exporter": "python",
   "pygments_lexer": "ipython3",
   "version": "3.7.5"
  }
 },
 "nbformat": 4,
 "nbformat_minor": 2
}
